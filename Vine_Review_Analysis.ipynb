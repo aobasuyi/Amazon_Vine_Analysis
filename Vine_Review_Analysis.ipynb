{
  "nbformat": 4,
  "nbformat_minor": 0,
  "metadata": {
    "colab": {
      "name": "Vine_Review_Analysis.ipynb",
      "provenance": []
    },
    "kernelspec": {
      "display_name": "Python 3",
      "name": "python3"
    },
    "language_info": {
      "name": "python"
    }
  },
  "cells": [
    {
      "cell_type": "code",
      "metadata": {
        "colab": {
          "base_uri": "https://localhost:8080/"
        },
        "id": "nku_vhhGDNtx",
        "outputId": "a1ff6a21-b517-4c85-fe3d-d1254868812b"
      },
      "source": [
        "import os\n",
        "# Find the latest version of spark 3.0  from http://www.apache.org/dist/spark/ and enter as the spark version\n",
        "# For example:\n",
        "# spark_version = 'spark-3.0.3'\n",
        "spark_version = 'spark-3.0.3'\n",
        "os.environ['SPARK_VERSION']=spark_version\n",
        "\n",
        "# Install Spark and Java\n",
        "!apt-get update\n",
        "!apt-get install openjdk-11-jdk-headless -qq > /dev/null\n",
        "!wget -q http://www.apache.org/dist/spark/$SPARK_VERSION/$SPARK_VERSION-bin-hadoop2.7.tgz\n",
        "!tar xf $SPARK_VERSION-bin-hadoop2.7.tgz\n",
        "!pip install -q findspark\n",
        "\n",
        "# Set Environment Variables\n",
        "import os\n",
        "os.environ[\"JAVA_HOME\"] = \"/usr/lib/jvm/java-11-openjdk-amd64\"\n",
        "os.environ[\"SPARK_HOME\"] = f\"/content/{spark_version}-bin-hadoop2.7\"\n",
        "\n",
        "# Start a SparkSession\n",
        "import findspark\n",
        "findspark.init()"
      ],
      "execution_count": 3,
      "outputs": [
        {
          "output_type": "stream",
          "text": [
            "Get:1 https://cloud.r-project.org/bin/linux/ubuntu bionic-cran40/ InRelease [3,626 B]\n",
            "Ign:2 https://developer.download.nvidia.com/compute/cuda/repos/ubuntu1804/x86_64  InRelease\n",
            "Get:3 http://security.ubuntu.com/ubuntu bionic-security InRelease [88.7 kB]\n",
            "Get:4 https://cloud.r-project.org/bin/linux/ubuntu bionic-cran40/ Packages [66.2 kB]\n",
            "Ign:5 https://developer.download.nvidia.com/compute/machine-learning/repos/ubuntu1804/x86_64  InRelease\n",
            "Get:6 https://developer.download.nvidia.com/compute/cuda/repos/ubuntu1804/x86_64  Release [697 B]\n",
            "Hit:7 https://developer.download.nvidia.com/compute/machine-learning/repos/ubuntu1804/x86_64  Release\n",
            "Hit:8 http://archive.ubuntu.com/ubuntu bionic InRelease\n",
            "Get:9 http://ppa.launchpad.net/c2d4u.team/c2d4u4.0+/ubuntu bionic InRelease [15.9 kB]\n",
            "Get:10 https://developer.download.nvidia.com/compute/cuda/repos/ubuntu1804/x86_64  Release.gpg [836 B]\n",
            "Get:12 http://archive.ubuntu.com/ubuntu bionic-updates InRelease [88.7 kB]\n",
            "Hit:13 http://ppa.launchpad.net/cran/libgit2/ubuntu bionic InRelease\n",
            "Ign:14 https://developer.download.nvidia.com/compute/cuda/repos/ubuntu1804/x86_64  Packages\n",
            "Get:14 https://developer.download.nvidia.com/compute/cuda/repos/ubuntu1804/x86_64  Packages [695 kB]\n",
            "Get:15 http://archive.ubuntu.com/ubuntu bionic-backports InRelease [74.6 kB]\n",
            "Get:16 http://ppa.launchpad.net/deadsnakes/ppa/ubuntu bionic InRelease [15.9 kB]\n",
            "Get:17 http://security.ubuntu.com/ubuntu bionic-security/universe amd64 Packages [1,421 kB]\n",
            "Get:18 http://archive.ubuntu.com/ubuntu bionic-updates/restricted amd64 Packages [544 kB]\n",
            "Get:19 http://ppa.launchpad.net/graphics-drivers/ppa/ubuntu bionic InRelease [21.3 kB]\n",
            "Get:20 http://security.ubuntu.com/ubuntu bionic-security/multiverse amd64 Packages [26.7 kB]\n",
            "Get:21 http://security.ubuntu.com/ubuntu bionic-security/restricted amd64 Packages [510 kB]\n",
            "Get:22 http://security.ubuntu.com/ubuntu bionic-security/main amd64 Packages [2,263 kB]\n",
            "Get:23 http://ppa.launchpad.net/c2d4u.team/c2d4u4.0+/ubuntu bionic/main Sources [1,786 kB]\n",
            "Get:24 http://archive.ubuntu.com/ubuntu bionic-updates/main amd64 Packages [2,699 kB]\n",
            "Get:25 http://archive.ubuntu.com/ubuntu bionic-updates/multiverse amd64 Packages [39.4 kB]\n",
            "Get:26 http://archive.ubuntu.com/ubuntu bionic-updates/universe amd64 Packages [2,196 kB]\n",
            "Get:27 http://ppa.launchpad.net/c2d4u.team/c2d4u4.0+/ubuntu bionic/main amd64 Packages [914 kB]\n",
            "Get:28 http://ppa.launchpad.net/deadsnakes/ppa/ubuntu bionic/main amd64 Packages [40.9 kB]\n",
            "Get:29 http://ppa.launchpad.net/graphics-drivers/ppa/ubuntu bionic/main amd64 Packages [44.1 kB]\n",
            "Fetched 13.6 MB in 8s (1,629 kB/s)\n",
            "Reading package lists... Done\n"
          ],
          "name": "stdout"
        }
      ]
    },
    {
      "cell_type": "code",
      "metadata": {
        "id": "mv1XU8Xga7fl"
      },
      "source": [
        "# Start Spark session\n",
        "from pyspark.sql import SparkSession\n",
        "spark = SparkSession.builder.appName(\"M16-Amazon-Challenge2\").getOrCreate()"
      ],
      "execution_count": 4,
      "outputs": []
    },
    {
      "cell_type": "markdown",
      "metadata": {
        "id": "TXjP37vdFy2H"
      },
      "source": [
        "### Load Amazon Data into Spark DataFrame"
      ]
    },
    {
      "cell_type": "code",
      "metadata": {
        "colab": {
          "base_uri": "https://localhost:8080/"
        },
        "id": "Mz9IjXoTKVkK",
        "outputId": "4cc1bfe7-7415-4672-9649-a1d687d49877"
      },
      "source": [
        "from pyspark import SparkFiles\n",
        "url = \"https://s3.amazonaws.com/amazon-reviews-pds/tsv/amazon_reviews_us_Health_Personal_Care_v1_00.tsv.gz\"\n",
        "spark.sparkContext.addFile(url)\n",
        "df = spark.read.option(\"encoding\", \"UTF-8\").csv(SparkFiles.get(\"amazon_reviews_us_Health_Personal_Care_v1_00.tsv.gz\"), sep=\"\\t\", header=True, inferSchema=True)\n",
        "df.show()"
      ],
      "execution_count": 5,
      "outputs": [
        {
          "output_type": "stream",
          "text": [
            "+-----------+-----------+--------------+----------+--------------+--------------------+--------------------+-----------+-------------+-----------+----+-----------------+--------------------+--------------------+-----------+\n",
            "|marketplace|customer_id|     review_id|product_id|product_parent|       product_title|    product_category|star_rating|helpful_votes|total_votes|vine|verified_purchase|     review_headline|         review_body|review_date|\n",
            "+-----------+-----------+--------------+----------+--------------+--------------------+--------------------+-----------+-------------+-----------+----+-----------------+--------------------+--------------------+-----------+\n",
            "|         US|     650634| R3EQSTM9PWRAL|B0091LBZSU|     578484426|Demograss Capsule...|Health & Personal...|          3|            0|          0|   N|                Y|         Three Stars|Only came with 30...| 2015-08-31|\n",
            "|         US|   19827510| RBWPRK17XKIXD|B00PWW3LQ6|     456433146|Viva Labs #1 Prem...|Health & Personal...|          5|            0|          0|   N|                Y|A good portable s...|Really yummy and ...| 2015-08-31|\n",
            "|         US|    1520474| RRSLOAF273XFC|B00DKEWA92|     460764511|     Whip-it Cleaner|Health & Personal...|          5|            1|          2|   N|                Y|       You need this|You cannot go wro...| 2015-08-31|\n",
            "|         US|   23905905|R3S8W9Q6SWIT8O|B0015R3A7M|     135102038|Optimum Nutrition...|Health & Personal...|          4|            0|          0|   N|                Y|this is a good vi...|This is a good da...| 2015-08-31|\n",
            "|         US|   28215779|R3QQ6NSLRVBFJC|B006B8U8BG|     200666829|Wet-Stop3 Bedwett...|Health & Personal...|          4|            0|          0|   N|                Y|progress is defin...|We have been usin...| 2015-08-31|\n",
            "|         US|   23260912|R2XYDBMHUVJCSX|B00PFZFD8Y|     344168617|NatraCure Plantar...|Health & Personal...|          2|            0|          1|   N|                Y|           Two Stars|I wear it a few t...| 2015-08-31|\n",
            "|         US|    7965616|R1L94ESVC657A9|B0034792JG|     291831570|Glade Sense & Spr...|Health & Personal...|          5|            0|          0|   N|                Y|          Five Stars|Love this product...| 2015-08-31|\n",
            "|         US|    3443178|R3DI4B8LDWFQ3K|B000052XIA|     493678550|Vagisil Anti-Itch...|Health & Personal...|          1|            3|          4|   N|                Y|It still is itchi...|It still is itchi...| 2015-08-31|\n",
            "|         US|   20838781|R1G7VV4HCXUQQL|B004GCUK8A|       3902598|Glade Automatic S...|Health & Personal...|          5|            0|          0|   N|                Y|          Five Stars|               Good!| 2015-08-31|\n",
            "|         US|   15267517|R3TTNYN1TAMUSU|B00K7W1QAO|     633971374|Kirkland Signatur...|Health & Personal...|          5|            0|          0|   N|                Y|      Will buy again|These bags are ma...| 2015-08-31|\n",
            "|         US|   30105089|R3AMX2D9HMWV6Z|B0034KYA36|     854858899|Zyrtec Prescripti...|Health & Personal...|          5|            0|          0|   N|                Y|         Good price!|Delivered product...| 2015-08-31|\n",
            "|         US|    1622207|R3PO3K321GY8HI|B00C7UZTT8|     264608272|Pure Garcinia Cam...|Health & Personal...|          1|            0|          0|   N|                Y|       Doesn't work.|So far I've felt ...| 2015-08-31|\n",
            "|         US|   29856075| RVQ0UNYX6IEVK|B005F9XFN0|     638667060|Now  Better Stevi...|Health & Personal...|          1|            0|          1|   N|                Y|           not quite|Not nearly as goo...| 2015-08-31|\n",
            "|         US|   52319463|R25E9NIGO2XQ3D|B00Q8YSPTU|     130354267|Now Foods Stevia ...|Health & Personal...|          5|            0|          0|   N|                Y|Reasonably priced...|Reasonably priced...| 2015-08-31|\n",
            "|         US|   16857013|R3GIEXIIIR2G9Y|B00N34HBVG|     700530604|Compression Thigh...|Health & Personal...|          1|            0|          0|   N|                Y|DO NOT BUY!!!! Ve...|They are sooooooo...| 2015-08-31|\n",
            "|         US|   12269680|R264BH3U417NXF|B002UN2UKS|     731161248|Brownmed SEAL-TIG...|Health & Personal...|          5|            0|          0|   N|                Y|Worked Great!! Ve...|Worked Great!!  V...| 2015-08-31|\n",
            "|         US|   29116955|R2C6S0XJIMP0Z2|B003265KYK|     719831457|Botanic Choice Gl...|Health & Personal...|          5|            0|          0|   N|                Y|          Five Stars|Great price, on t...| 2015-08-31|\n",
            "|         US|   14533949|R2LRJYGC2YYR2F|B00939J5T6|     377517622|Shibari SHIB-WHT ...|Health & Personal...|          2|            0|          0|   N|                Y|Cant handle long ...|Broke down after ...| 2015-08-31|\n",
            "|         US|   11274313|R3SVW9ZP1CZPW7|B00LJOQKRI|     376583016|Eyekepper 5-pack ...|Health & Personal...|          1|            0|          1|   N|                Y|            One Star|I think the presc...| 2015-08-31|\n",
            "|         US|   14861684|R1GLA6RQUF4Q79|B002TG3QPO|     813956658|Isopure Zero Carb...|Health & Personal...|          4|            0|          0|   N|                Y|          Four Stars|            Loved it| 2015-08-31|\n",
            "+-----------+-----------+--------------+----------+--------------+--------------------+--------------------+-----------+-------------+-----------+----+-----------------+--------------------+--------------------+-----------+\n",
            "only showing top 20 rows\n",
            "\n"
          ],
          "name": "stdout"
        }
      ]
    },
    {
      "cell_type": "markdown",
      "metadata": {
        "id": "hpeZQaNB86YF"
      },
      "source": [
        "### Create DataFrames to match tables\n"
      ]
    },
    {
      "cell_type": "code",
      "metadata": {
        "id": "GNr1tTptiusZ"
      },
      "source": [
        "from pyspark.sql.functions import to_date\n",
        "# Read in the Review dataset as a DataFrame\n",
        "# df is already conveted to a DataFrame Skipping current step."
      ],
      "execution_count": 6,
      "outputs": []
    },
    {
      "cell_type": "code",
      "metadata": {
        "colab": {
          "base_uri": "https://localhost:8080/"
        },
        "id": "9sHzAz1eivvk",
        "outputId": "dd7051c9-48ec-4e55-cebe-d20b75284680"
      },
      "source": [
        "# Create the customers_table DataFrame\n",
        "customers_df = df.groupby(\"customer_id\").agg({\"customer_id\":\"count\"}).withColumnRenamed(\"count(customer_id)\", \"customer_count\")\n",
        "customers_df.show()"
      ],
      "execution_count": 7,
      "outputs": [
        {
          "output_type": "stream",
          "text": [
            "+-----------+--------------+\n",
            "|customer_id|customer_count|\n",
            "+-----------+--------------+\n",
            "|    4919528|             5|\n",
            "|   51451778|             3|\n",
            "|   12713799|             1|\n",
            "|    8673341|             1|\n",
            "|   42146698|             2|\n",
            "|    1117644|             2|\n",
            "|   28058398|             1|\n",
            "|   14375645|             1|\n",
            "|   24540309|             1|\n",
            "|   39715602|             1|\n",
            "|     654272|             1|\n",
            "|    9015608|             5|\n",
            "|   43920023|            42|\n",
            "|   38209321|             1|\n",
            "|   12328685|             1|\n",
            "|    2866605|             2|\n",
            "|   38273165|             5|\n",
            "|   41066514|             1|\n",
            "|   28377689|             2|\n",
            "|   17018784|             2|\n",
            "+-----------+--------------+\n",
            "only showing top 20 rows\n",
            "\n"
          ],
          "name": "stdout"
        }
      ]
    },
    {
      "cell_type": "code",
      "metadata": {
        "id": "I5a2CQ_RhHqU",
        "colab": {
          "base_uri": "https://localhost:8080/"
        },
        "outputId": "1f720ea3-195a-4aa4-db8a-6f5c07a57ede"
      },
      "source": [
        "# Create the vine_table. DataFrame\n",
        "vine_df = df.select([\"review_id\",\"star_rating\",\"helpful_votes\",\"total_votes\",\"vine\",\"verified_purchase\"])\n",
        "vine_df = vine_df.withColumn(\"star_rating\", vine_df.star_rating.cast(\"int\")).dropDuplicates(['review_id']).dropna()\n",
        "vine_df.show()"
      ],
      "execution_count": 8,
      "outputs": [
        {
          "output_type": "stream",
          "text": [
            "+--------------+-----------+-------------+-----------+----+-----------------+\n",
            "|     review_id|star_rating|helpful_votes|total_votes|vine|verified_purchase|\n",
            "+--------------+-----------+-------------+-----------+----+-----------------+\n",
            "|R1006MZQZESJLU|          5|            0|          0|   N|                Y|\n",
            "| R100KFB0HIL17|          3|            1|          2|   N|                Y|\n",
            "|R100VCRMA6O31M|          2|            0|          0|   N|                Y|\n",
            "|R10123RVTQX469|          1|           10|         12|   N|                Y|\n",
            "|R101AA8NMPCECG|          5|            3|          5|   N|                Y|\n",
            "|R101H9BZ4XSO4P|          4|            4|          4|   N|                Y|\n",
            "|R101OASBXZOKB5|          4|            0|          0|   N|                Y|\n",
            "|R101RBWHDT9BUD|          5|            0|          0|   N|                Y|\n",
            "|R101WUH16PCM6G|          5|            0|          0|   N|                Y|\n",
            "|R1020VRZ9DVRFC|          4|            3|          3|   N|                N|\n",
            "|R1026838D7ZU2Y|          5|            0|          0|   N|                Y|\n",
            "|R102H8AD42JQ99|          1|            0|          1|   N|                N|\n",
            "|R102L2V3M84I9V|          5|            2|          2|   N|                N|\n",
            "|R102XR2RN9S6KR|          2|            4|          4|   N|                Y|\n",
            "|R1038SGK0MJ4XY|          5|            0|          0|   N|                Y|\n",
            "|R103T246FBUV6F|          5|            1|          1|   N|                Y|\n",
            "|R103TLLKLVFEDF|          5|            0|          0|   N|                N|\n",
            "|R1040DS246Z070|          4|            1|          1|   N|                Y|\n",
            "|R1048VH5KNJSBD|          4|            0|          0|   N|                Y|\n",
            "|R104A675ALY8C9|          5|            0|          0|   N|                Y|\n",
            "+--------------+-----------+-------------+-----------+----+-----------------+\n",
            "only showing top 20 rows\n",
            "\n"
          ],
          "name": "stdout"
        }
      ]
    },
    {
      "cell_type": "code",
      "metadata": {
        "colab": {
          "base_uri": "https://localhost:8080/"
        },
        "id": "8F2y8D2F9Wo6",
        "outputId": "7abfc60f-e365-4c01-94a6-4076785956b0"
      },
      "source": [
        "# Confirm total_vote, helpful_votes, and star_rating are all integers\n",
        "vine_df"
      ],
      "execution_count": 9,
      "outputs": [
        {
          "output_type": "execute_result",
          "data": {
            "text/plain": [
              "DataFrame[review_id: string, star_rating: int, helpful_votes: int, total_votes: int, vine: string, verified_purchase: string]"
            ]
          },
          "metadata": {
            "tags": []
          },
          "execution_count": 9
        }
      ]
    },
    {
      "cell_type": "code",
      "metadata": {
        "colab": {
          "base_uri": "https://localhost:8080/"
        },
        "id": "KqNuIt7-9ol3",
        "outputId": "ca53246e-7648-4528-d2ca-ca11fdac28e7"
      },
      "source": [
        "# Filter Health Personal Care data frame to retrieve total_vote greater than or equal to 20\n",
        "totalvotes_df = vine_df.filter(\"total_votes>=20\")\n",
        "totalvotes_df.show()"
      ],
      "execution_count": 10,
      "outputs": [
        {
          "output_type": "stream",
          "text": [
            "+--------------+-----------+-------------+-----------+----+-----------------+\n",
            "|     review_id|star_rating|helpful_votes|total_votes|vine|verified_purchase|\n",
            "+--------------+-----------+-------------+-----------+----+-----------------+\n",
            "|R1055X9B9Y3ZVA|          1|            7|         20|   N|                Y|\n",
            "|R10C05WAX6F6PX|          1|            8|         23|   N|                Y|\n",
            "|R10T3E8I8O3TW2|          5|           34|         41|   N|                Y|\n",
            "|R10XH4CYLKGBE0|          5|          137|        159|   N|                Y|\n",
            "|R110SV87XLLTQG|          5|           44|         44|   N|                Y|\n",
            "|R11699H31Z87SC|          1|            6|         40|   N|                Y|\n",
            "|R117872KL6C4WD|          4|           29|         31|   N|                Y|\n",
            "|R11QNU7RW49QEN|          1|          220|        230|   N|                Y|\n",
            "|R11QZUPWOHIJWR|          1|           36|         38|   N|                N|\n",
            "|R11RUFETP99KJ6|          5|           27|         32|   Y|                N|\n",
            "|R128D60L8SZ3D7|          4|           25|         25|   N|                Y|\n",
            "|R129WA7JCC8DAF|          3|           32|         45|   N|                N|\n",
            "|R12CLTVFNDSTMK|          2|           59|         76|   N|                Y|\n",
            "|R12DFJSUOXE3QE|          1|           36|         41|   N|                Y|\n",
            "|R12JEM9G7LCFT9|          1|           35|         37|   N|                Y|\n",
            "|R12L5HL74JC77X|          1|          367|        413|   N|                N|\n",
            "|R12T574ZAQ1YZF|          1|           52|         65|   N|                Y|\n",
            "|R12YGIQOKIZQGZ|          5|           16|         20|   N|                Y|\n",
            "|R12YTXMVHD7OYM|          5|           30|         31|   N|                Y|\n",
            "|R1310IRPBBVGKO|          5|           82|         91|   N|                N|\n",
            "+--------------+-----------+-------------+-----------+----+-----------------+\n",
            "only showing top 20 rows\n",
            "\n"
          ],
          "name": "stdout"
        }
      ]
    },
    {
      "cell_type": "code",
      "metadata": {
        "colab": {
          "base_uri": "https://localhost:8080/"
        },
        "id": "7Ov-GUiB9o4P",
        "outputId": "3f403f1d-f89a-4e13-e280-e20a03d8f447"
      },
      "source": [
        "new_helpful_votes_df = totalvotes_df.filter(\"helpful_votes/total_votes>=.50\")\n",
        "new_helpful_votes_df.show()"
      ],
      "execution_count": 11,
      "outputs": [
        {
          "output_type": "stream",
          "text": [
            "+--------------+-----------+-------------+-----------+----+-----------------+\n",
            "|     review_id|star_rating|helpful_votes|total_votes|vine|verified_purchase|\n",
            "+--------------+-----------+-------------+-----------+----+-----------------+\n",
            "|R10T3E8I8O3TW2|          5|           34|         41|   N|                Y|\n",
            "|R10XH4CYLKGBE0|          5|          137|        159|   N|                Y|\n",
            "|R110SV87XLLTQG|          5|           44|         44|   N|                Y|\n",
            "|R117872KL6C4WD|          4|           29|         31|   N|                Y|\n",
            "|R11QNU7RW49QEN|          1|          220|        230|   N|                Y|\n",
            "|R11QZUPWOHIJWR|          1|           36|         38|   N|                N|\n",
            "|R11RUFETP99KJ6|          5|           27|         32|   Y|                N|\n",
            "|R128D60L8SZ3D7|          4|           25|         25|   N|                Y|\n",
            "|R129WA7JCC8DAF|          3|           32|         45|   N|                N|\n",
            "|R12CLTVFNDSTMK|          2|           59|         76|   N|                Y|\n",
            "|R12DFJSUOXE3QE|          1|           36|         41|   N|                Y|\n",
            "|R12JEM9G7LCFT9|          1|           35|         37|   N|                Y|\n",
            "|R12L5HL74JC77X|          1|          367|        413|   N|                N|\n",
            "|R12T574ZAQ1YZF|          1|           52|         65|   N|                Y|\n",
            "|R12YGIQOKIZQGZ|          5|           16|         20|   N|                Y|\n",
            "|R12YTXMVHD7OYM|          5|           30|         31|   N|                Y|\n",
            "|R1310IRPBBVGKO|          5|           82|         91|   N|                N|\n",
            "|R135HPTPJ05OW0|          5|           29|         30|   N|                Y|\n",
            "|R13B4TBH0EA4CF|          2|          308|        391|   N|                Y|\n",
            "|R13OZOZOV0T6PS|          5|           48|         51|   N|                N|\n",
            "+--------------+-----------+-------------+-----------+----+-----------------+\n",
            "only showing top 20 rows\n",
            "\n"
          ],
          "name": "stdout"
        }
      ]
    },
    {
      "cell_type": "code",
      "metadata": {
        "colab": {
          "base_uri": "https://localhost:8080/"
        },
        "id": "3rDwIbng-QK8",
        "outputId": "f9fb7e70-ed5a-4482-b77b-c91fedc55025"
      },
      "source": [
        "print(new_helpful_votes_df.count())"
      ],
      "execution_count": 12,
      "outputs": [
        {
          "output_type": "stream",
          "text": [
            "121360\n"
          ],
          "name": "stdout"
        }
      ]
    },
    {
      "cell_type": "code",
      "metadata": {
        "colab": {
          "base_uri": "https://localhost:8080/"
        },
        "id": "1nEkWitT-W3L",
        "outputId": "a01928eb-b6cf-4fed-86ad-9b5241000e6b"
      },
      "source": [
        "vine_review_df = new_helpful_votes_df.filter(new_helpful_votes_df[\"vine\"] == \"Y\")\n",
        "vine_review_df.show()"
      ],
      "execution_count": 13,
      "outputs": [
        {
          "output_type": "stream",
          "text": [
            "+--------------+-----------+-------------+-----------+----+-----------------+\n",
            "|     review_id|star_rating|helpful_votes|total_votes|vine|verified_purchase|\n",
            "+--------------+-----------+-------------+-----------+----+-----------------+\n",
            "|R11RUFETP99KJ6|          5|           27|         32|   Y|                N|\n",
            "|R1MG20UGZ9K6GX|          5|           25|         28|   Y|                N|\n",
            "|R108U30Q0YXJYO|          5|           28|         33|   Y|                N|\n",
            "|R3FIEE8HAF008L|          1|           23|         26|   Y|                N|\n",
            "|R2GEV5D6OOVVH3|          5|          124|        144|   Y|                N|\n",
            "|R22ODVH2E96E2G|          5|           40|         44|   Y|                N|\n",
            "|R3UIU2I3646BC5|          2|           88|        111|   Y|                N|\n",
            "| RD9PN3ZPNHUCY|          5|           65|         71|   Y|                N|\n",
            "|R1Z22C322BODG7|          5|           32|         38|   Y|                N|\n",
            "|R2E8YVS4AFSBJ8|          5|           37|         42|   Y|                N|\n",
            "| R1KASHD9QSDMV|          4|           18|         21|   Y|                N|\n",
            "| RSEYXQAYYGLHT|          4|          131|        145|   Y|                N|\n",
            "|R2MEX57HBLA5QE|          3|           79|         82|   Y|                N|\n",
            "|R2P1B7A9CJJQUV|          2|           31|         41|   Y|                N|\n",
            "|R22SPY3V2UEVBA|          3|          105|        111|   Y|                N|\n",
            "|R2OUYVIC436YJO|          4|           38|         45|   Y|                N|\n",
            "|R2NJIFRM9EIVMX|          5|           44|         49|   Y|                N|\n",
            "| RPWYWKI25PLVE|          5|           38|         43|   Y|                N|\n",
            "|R1RVOVNV9STUOX|          4|          843|        952|   Y|                N|\n",
            "| RELR99I236PS5|          4|           87|         97|   Y|                N|\n",
            "+--------------+-----------+-------------+-----------+----+-----------------+\n",
            "only showing top 20 rows\n",
            "\n"
          ],
          "name": "stdout"
        }
      ]
    },
    {
      "cell_type": "code",
      "metadata": {
        "colab": {
          "base_uri": "https://localhost:8080/"
        },
        "id": "exc5YpUr__br",
        "outputId": "c70a3163-9fe3-42e3-b8e9-978ffccda37b"
      },
      "source": [
        "non_vine_review_df = new_helpful_votes_df.filter(new_helpful_votes_df[\"vine\"] == \"N\")\n",
        "non_vine_review_df.show()"
      ],
      "execution_count": 14,
      "outputs": [
        {
          "output_type": "stream",
          "text": [
            "+--------------+-----------+-------------+-----------+----+-----------------+\n",
            "|     review_id|star_rating|helpful_votes|total_votes|vine|verified_purchase|\n",
            "+--------------+-----------+-------------+-----------+----+-----------------+\n",
            "|R10T3E8I8O3TW2|          5|           34|         41|   N|                Y|\n",
            "|R10XH4CYLKGBE0|          5|          137|        159|   N|                Y|\n",
            "|R110SV87XLLTQG|          5|           44|         44|   N|                Y|\n",
            "|R117872KL6C4WD|          4|           29|         31|   N|                Y|\n",
            "|R11QNU7RW49QEN|          1|          220|        230|   N|                Y|\n",
            "|R11QZUPWOHIJWR|          1|           36|         38|   N|                N|\n",
            "|R128D60L8SZ3D7|          4|           25|         25|   N|                Y|\n",
            "|R129WA7JCC8DAF|          3|           32|         45|   N|                N|\n",
            "|R12CLTVFNDSTMK|          2|           59|         76|   N|                Y|\n",
            "|R12DFJSUOXE3QE|          1|           36|         41|   N|                Y|\n",
            "|R12JEM9G7LCFT9|          1|           35|         37|   N|                Y|\n",
            "|R12L5HL74JC77X|          1|          367|        413|   N|                N|\n",
            "|R12T574ZAQ1YZF|          1|           52|         65|   N|                Y|\n",
            "|R12YGIQOKIZQGZ|          5|           16|         20|   N|                Y|\n",
            "|R12YTXMVHD7OYM|          5|           30|         31|   N|                Y|\n",
            "|R1310IRPBBVGKO|          5|           82|         91|   N|                N|\n",
            "|R135HPTPJ05OW0|          5|           29|         30|   N|                Y|\n",
            "|R13B4TBH0EA4CF|          2|          308|        391|   N|                Y|\n",
            "|R13OZOZOV0T6PS|          5|           48|         51|   N|                N|\n",
            "|R13Q70TUYBXRWX|          5|           29|         42|   N|                Y|\n",
            "+--------------+-----------+-------------+-----------+----+-----------------+\n",
            "only showing top 20 rows\n",
            "\n"
          ],
          "name": "stdout"
        }
      ]
    },
    {
      "cell_type": "markdown",
      "metadata": {
        "id": "5SsM1tR7B7en"
      },
      "source": [
        "### Determine Bias of Vine Reviews"
      ]
    },
    {
      "cell_type": "code",
      "metadata": {
        "colab": {
          "base_uri": "https://localhost:8080/"
        },
        "id": "3BCvAyC7IR8q",
        "outputId": "e13d2dc6-92e6-4d07-b5ff-0acbb6808f8b"
      },
      "source": [
        "# Determine the total number of reviews\n",
        "from pyspark.sql.functions import count\n",
        "\n",
        "new_helpful_votes_count = new_helpful_votes_df.count()\n",
        "print (\"The total number of helpful reviews : %f \" % new_helpful_votes_count)\n"
      ],
      "execution_count": 15,
      "outputs": [
        {
          "output_type": "stream",
          "text": [
            "The total number of helpful reviews : 121360.000000 \n"
          ],
          "name": "stdout"
        }
      ]
    },
    {
      "cell_type": "code",
      "metadata": {
        "colab": {
          "base_uri": "https://localhost:8080/"
        },
        "id": "CEMslZ1kMFkx",
        "outputId": "65b5d317-b2bb-44ac-9c11-967045ec9e35"
      },
      "source": [
        "# Determine the number of Vine reviews and non-Vine reviews\n",
        "vine_review_count = vine_review_df.count()\n",
        "print(\"The number of Vine reviews : %f \" % vine_review_count)\n",
        "\n",
        "non_vine_review_count = non_vine_review_df.count()\n",
        "print(\"The number of non-Vine reviews : %f\" % non_vine_review_count)"
      ],
      "execution_count": 16,
      "outputs": [
        {
          "output_type": "stream",
          "text": [
            "The number of Vine reviews : 497.000000 \n",
            "The number of non-Vine reviews : 120863.000000\n"
          ],
          "name": "stdout"
        }
      ]
    },
    {
      "cell_type": "code",
      "metadata": {
        "colab": {
          "base_uri": "https://localhost:8080/"
        },
        "id": "HLzqqjhPM6JI",
        "outputId": "0a677bc5-5ea7-4a83-e903-83d08213d55b"
      },
      "source": [
        "# Determine how many Vine reviews and non-Vine reviews were 5 stars\n",
        "vine_5stars_df = vine_review_df.filter(vine_review_df[\"star_rating\"]==\"5\")\n",
        "print(\"The number of 5-star Vine reviews : %f\" % vine_5stars_df.count())\n",
        "\n",
        "\n",
        "non_vine_5stars_df = non_vine_review_df.filter(non_vine_review_df[\"star_rating\"]==\"5\")\n",
        "print(\"The number of 5-star non-Vine reviews: %f\" % non_vine_5stars_df.count())\n"
      ],
      "execution_count": 17,
      "outputs": [
        {
          "output_type": "stream",
          "text": [
            "The number of 5-star Vine reviews : 220.000000\n",
            "The number of 5-star non-Vine reviews: 74470.000000\n"
          ],
          "name": "stdout"
        }
      ]
    },
    {
      "cell_type": "code",
      "metadata": {
        "colab": {
          "base_uri": "https://localhost:8080/"
        },
        "id": "Gbikknr3O1hM",
        "outputId": "4d5a0c82-c320-4bfc-c8b9-3092c418b1c1"
      },
      "source": [
        "# Determine what percentage of Vine reviews and non-Vine reviews were 5 stars.\n",
        "vine_5stars_percent = (vine_5stars_df.count()/vine_review_count)\n",
        "print(\"The percentage of Vine reviews that were 5 stars: %f\" % vine_5stars_percent)\n",
        "\n",
        "non_vine_5stars_percent = (non_vine_5stars_df.count()/non_vine_review_count)\n",
        "print(\"The percentage of non_Vine reviews that were 5 stars: %f\" % non_vine_5stars_percent)"
      ],
      "execution_count": 18,
      "outputs": [
        {
          "output_type": "stream",
          "text": [
            "The percentage of Vine reviews that were 5 stars: 0.442656\n",
            "The percentage of non_Vine reviews that were 5 stars: 0.616152\n"
          ],
          "name": "stdout"
        }
      ]
    }
  ]
}